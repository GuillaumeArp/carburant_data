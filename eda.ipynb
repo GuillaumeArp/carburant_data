{
 "cells": [
  {
   "cell_type": "code",
   "execution_count": 28,
   "metadata": {},
   "outputs": [],
   "source": [
    "import pandas as pd\n",
    "import numpy as np\n",
    "import plotly.express as px\n",
    "import plotly.graph_objects as go\n",
    "import requests\n",
    "from zipfile import ZipFile\n",
    "import glob\n",
    "import os\n",
    "\n",
    "url = \"https://donnees.roulez-eco.fr/opendata/jour\""
   ]
  },
  {
   "cell_type": "code",
   "execution_count": 30,
   "metadata": {},
   "outputs": [],
   "source": [
    "def get_daily_data(url):\n",
    "    \"\"\"\n",
    "    Get daily fuel data from url\n",
    "    \"\"\"\n",
    "    response = requests.get(url)\n",
    "    open(\"jour.zip\", \"wb\").write(response.content)\n",
    "\n",
    "    with ZipFile(\"jour.zip\", \"r\") as zip:\n",
    "        zip.extractall()\n",
    "        \n",
    "    filename = glob.glob(\"*.xml\")\n",
    "    os.rename(filename[0], \"src/data.xml\")\n",
    "    os.remove(\"jour.zip\")"
   ]
  },
  {
   "cell_type": "code",
   "execution_count": 31,
   "metadata": {},
   "outputs": [],
   "source": [
    "get_daily_data(url)"
   ]
  },
  {
   "cell_type": "code",
   "execution_count": null,
   "metadata": {},
   "outputs": [],
   "source": []
  }
 ],
 "metadata": {
  "kernelspec": {
   "display_name": "Python 3.9.12 ('base')",
   "language": "python",
   "name": "python3"
  },
  "language_info": {
   "codemirror_mode": {
    "name": "ipython",
    "version": 3
   },
   "file_extension": ".py",
   "mimetype": "text/x-python",
   "name": "python",
   "nbconvert_exporter": "python",
   "pygments_lexer": "ipython3",
   "version": "3.9.12"
  },
  "orig_nbformat": 4,
  "vscode": {
   "interpreter": {
    "hash": "398748c372d42d99dcfa9ac8f694c5d292e22baf2e524ae29249ce2ce8b32818"
   }
  }
 },
 "nbformat": 4,
 "nbformat_minor": 2
}
